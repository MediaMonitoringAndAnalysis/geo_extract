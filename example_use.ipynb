{
 "cells": [
  {
   "cell_type": "code",
   "execution_count": 1,
   "metadata": {},
   "outputs": [],
   "source": [
    "from main_geolocations_extractor import extract_geolocations"
   ]
  },
  {
   "cell_type": "code",
   "execution_count": 2,
   "metadata": {},
   "outputs": [],
   "source": [
    "text = [\"Je suis en Tunisie\", \"I am in Nabeul\", \"I am nowhere\"]\n",
    "countries = [\"Tunisia\"]"
   ]
  },
  {
   "cell_type": "code",
   "execution_count": 3,
   "metadata": {},
   "outputs": [
    {
     "name": "stderr",
     "output_type": "stream",
     "text": [
      "Some weights of the model checkpoint at dbmdz/bert-large-cased-finetuned-conll03-english were not used when initializing BertForTokenClassification: ['bert.pooler.dense.bias', 'bert.pooler.dense.weight']\n",
      "- This IS expected if you are initializing BertForTokenClassification from the checkpoint of a model trained on another task or with another architecture (e.g. initializing a BertForSequenceClassification model from a BertForPreTraining model).\n",
      "- This IS NOT expected if you are initializing BertForTokenClassification from the checkpoint of a model that you expect to be exactly identical (initializing a BertForSequenceClassification model from a BertForSequenceClassification model).\n",
      "/Users/sfekih/anaconda3/envs/media-monitoring/lib/python3.11/site-packages/transformers/pipelines/token_classification.py:170: UserWarning: `grouped_entities` is deprecated and will be removed in version v5.0.0, defaulted to `aggregation_strategy=\"AggregationStrategy.SIMPLE\"` instead.\n",
      "  warnings.warn(\n",
      "/Users/sfekih/anaconda3/envs/media-monitoring/lib/python3.11/site-packages/transformers/tokenization_utils_base.py:1617: FutureWarning: `clean_up_tokenization_spaces` was not set. It will be set to `True` by default. This behavior will be deprecated in transformers v4.45, and will be then set to `False` by default. For more details check this issue: https://github.com/huggingface/transformers/issues/31884\n",
      "  warnings.warn(\n",
      "Hardware accelerator e.g. GPU is available in the environment, but no `device` argument is passed to the `Pipeline` object. Model will be on CPU.\n",
      "Extracting geolocations: 100%|██████████| 3/3 [00:04<00:00,  1.55s/it]\n"
     ]
    }
   ],
   "source": [
    "outputs = extract_geolocations(text, countries)"
   ]
  },
  {
   "cell_type": "code",
   "execution_count": 4,
   "metadata": {},
   "outputs": [
    {
     "data": {
      "text/plain": [
       "{'geolocations': [[{'original': 'Tunisie', 'translated_to_en': 'Tunisia'}],\n",
       "  [{'original': 'Nabeul', 'translated_to_en': 'Nabeul'}],\n",
       "  []],\n",
       " 'geolocation_by_admin_level': [{'Tunisie': {0: {'id': 'TUN-20240327',\n",
       "     'name': 'Tunisia',\n",
       "     'Pcode': 'TUN'}}},\n",
       "  {'Nabeul': {1: {'id': 'TUN-20230119-16',\n",
       "     'name': 'Nabeul',\n",
       "     'Pcode': '13205935B21712567795690'},\n",
       "    0: {'id': 'TUN-20240327', 'name': 'Tunisia', 'Pcode': 'TUN'}}},\n",
       "  {}],\n",
       " 'location_by_adm_level_0': [[{'id': 'TUN-20240327',\n",
       "    'name': 'Tunisia',\n",
       "    'Pcode': 'TUN'}],\n",
       "  [{'id': 'TUN-20240327', 'name': 'Tunisia', 'Pcode': 'TUN'}],\n",
       "  []],\n",
       " 'location_by_adm_level_1': [[],\n",
       "  [{'id': 'TUN-20230119-16',\n",
       "    'name': 'Nabeul',\n",
       "    'Pcode': '13205935B21712567795690'}],\n",
       "  []],\n",
       " 'location_by_adm_level_2': [[], [], []],\n",
       " 'location_by_adm_level_3': [[], [], []],\n",
       " 'location_by_adm_level_4': [[], [], []]}"
      ]
     },
     "execution_count": 4,
     "metadata": {},
     "output_type": "execute_result"
    }
   ],
   "source": [
    "outputs"
   ]
  },
  {
   "cell_type": "code",
   "execution_count": null,
   "metadata": {},
   "outputs": [],
   "source": []
  }
 ],
 "metadata": {
  "kernelspec": {
   "display_name": "media-monitoring",
   "language": "python",
   "name": "python3"
  },
  "language_info": {
   "codemirror_mode": {
    "name": "ipython",
    "version": 3
   },
   "file_extension": ".py",
   "mimetype": "text/x-python",
   "name": "python",
   "nbconvert_exporter": "python",
   "pygments_lexer": "ipython3",
   "version": "3.11.5"
  }
 },
 "nbformat": 4,
 "nbformat_minor": 2
}
